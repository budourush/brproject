{
 "cells": [
  {
   "cell_type": "markdown",
   "metadata": {},
   "source": [
    "ヒント"
   ]
  },
  {
   "cell_type": "markdown",
   "metadata": {},
   "source": [
    "$$\n",
    "\\begin{eqnarray}\n",
    "    &&\\sum_{k=1}^{n} c = cn\\\\\n",
    "    &&\\sum_{k=1}^{n} k = \\frac{n(n+1)}{2}\\\\\n",
    "    &&\\sum_{k=1}^{n} k^2 = \\frac{1}{6}{n(n+1)(2n+1)}\\\\\n",
    "    &&\\sum_{k=1}^{n} k^3 = (\\frac{n(n+1)}{2})^2\\\\\n",
    "\\end{eqnarray}\n",
    "$$"
   ]
  },
  {
   "cell_type": "markdown",
   "metadata": {},
   "source": [
    "一問目"
   ]
  },
  {
   "cell_type": "markdown",
   "metadata": {},
   "source": [
    "$$\n",
    "\\begin{eqnarray}\n",
    "    &&\\sum_{k=1}^{n} k^3 + k^2 = \\\\\n",
    "\\end{eqnarray}\n",
    "$$"
   ]
  },
  {
   "cell_type": "markdown",
   "metadata": {},
   "source": [
    "二問目"
   ]
  },
  {
   "cell_type": "markdown",
   "metadata": {},
   "source": [
    "$$\n",
    "\\begin{eqnarray}\n",
    "    &&\\sum_{k=1}^{n-1} k^2 + 2 = \\\\\n",
    "\\end{eqnarray}\n",
    "$$"
   ]
  },
  {
   "cell_type": "markdown",
   "metadata": {},
   "source": [
    "三問目"
   ]
  },
  {
   "cell_type": "markdown",
   "metadata": {},
   "source": [
    "$$\n",
    "\\begin{eqnarray}\n",
    "    &&\\sum_{k=1}^{10} 3k^2 + 5 = \\\\\n",
    "\\end{eqnarray}\n",
    "$$"
   ]
  },
  {
   "cell_type": "markdown",
   "metadata": {},
   "source": [
    "四問目"
   ]
  },
  {
   "cell_type": "markdown",
   "metadata": {},
   "source": [
    "$$\n",
    "\\begin{eqnarray}\n",
    "    &&\\sum_{k=5}^{n} k + 9 = \\\\\n",
    "\\end{eqnarray}\n",
    "$$"
   ]
  },
  {
   "cell_type": "markdown",
   "metadata": {},
   "source": [
    "五問目"
   ]
  },
  {
   "cell_type": "markdown",
   "metadata": {},
   "source": [
    "$$\n",
    "\\begin{eqnarray}\n",
    "    &&\\sum_{k=1}^{n} 2k^3 + 4k^2 + 3k -4 = \\\\\n",
    "\\end{eqnarray}\n",
    "$$"
   ]
  },
  {
   "cell_type": "markdown",
   "metadata": {},
   "source": [
    "$$\n",
    "\\begin{eqnarray}\n",
    "    && \\{\\frac{1}{2} n(n+1)\\}^2 + \\frac{1}{2} n(n+1) \\\\\n",
    "    && \\frac{1}{2} n(n+1) = Aと考えると上記式は \\\\\n",
    "    && A^2 + A となり\\\\\n",
    "    && A(A+1) と表すことができる。よって\\\\\n",
    "    && \\frac{1}{2} n(n+1) \\{ \\frac{1}{2} n(n+1) + 1\\} \\\\\n",
    "    && = \\frac{1}{2} n(n+1) \\{ \\frac{1}{2} n(n+1) + \\frac{2}{2}\\} \\\\\n",
    "    && = \\frac{n(n+1)}{2}  \\{ \\frac{n(n+1)+2}{2}\\} \\\\\n",
    "    && = \\frac{n^2+n}{2}  (\\frac{n^2+n+2}{2}) \\\\\n",
    "    && = \\frac{(n^2+n) * (n^2+n+2)}{2 * 2}\\\\\n",
    "    && = \\frac{n^4 + 2n^3 + 3n^2 + 2n}{4}\\\\\n",
    "    && = \\frac{n(n^3 + 2n^2 + 3n + 2)}{4}\\\\\n",
    "    && = \\frac{n(n+1)(n^2 + n + 2)}{4}\\\\\n",
    "\\end{eqnarray}\n",
    "$$"
   ]
  },
  {
   "cell_type": "code",
   "execution_count": null,
   "metadata": {},
   "outputs": [],
   "source": []
  }
 ],
 "metadata": {
  "kernelspec": {
   "display_name": "Python 3",
   "language": "python",
   "name": "python3"
  },
  "language_info": {
   "codemirror_mode": {
    "name": "ipython",
    "version": 3
   },
   "file_extension": ".py",
   "mimetype": "text/x-python",
   "name": "python",
   "nbconvert_exporter": "python",
   "pygments_lexer": "ipython3",
   "version": "3.7.3"
  }
 },
 "nbformat": 4,
 "nbformat_minor": 4
}
