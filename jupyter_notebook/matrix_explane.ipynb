{
 "cells": [
  {
   "cell_type": "code",
   "execution_count": 12,
   "metadata": {},
   "outputs": [],
   "source": [
    "import numpy as np\n",
    "np_array_1 = np.array([[1, 2, 3], [3, 4, 5]])\n",
    "np_array_2 = np.array([[1, 2], [3, 4], [4, 5]])"
   ]
  },
  {
   "cell_type": "code",
   "execution_count": 13,
   "metadata": {},
   "outputs": [
    {
     "name": "stdout",
     "output_type": "stream",
     "text": [
      "[[1 2 3]\n",
      " [3 4 5]]\n"
     ]
    }
   ],
   "source": [
    "print(np_array_1)"
   ]
  },
  {
   "cell_type": "code",
   "execution_count": 14,
   "metadata": {},
   "outputs": [
    {
     "name": "stdout",
     "output_type": "stream",
     "text": [
      "[[1 2]\n",
      " [3 4]\n",
      " [4 5]]\n"
     ]
    }
   ],
   "source": [
    "print(np_array_2)"
   ]
  },
  {
   "cell_type": "code",
   "execution_count": 15,
   "metadata": {},
   "outputs": [
    {
     "name": "stdout",
     "output_type": "stream",
     "text": [
      "[[19 25]\n",
      " [35 47]]\n"
     ]
    }
   ],
   "source": [
    "print(np.dot(np_array_1, np_array_2))"
   ]
  },
  {
   "cell_type": "code",
   "execution_count": 16,
   "metadata": {},
   "outputs": [
    {
     "name": "stdout",
     "output_type": "stream",
     "text": [
      "[[ 7 10 13]\n",
      " [15 22 29]\n",
      " [19 28 37]]\n"
     ]
    }
   ],
   "source": [
    "print(np.dot(np_array_2, np_array_1))"
   ]
  },
  {
   "cell_type": "code",
   "execution_count": 4,
   "metadata": {},
   "outputs": [
    {
     "name": "stdout",
     "output_type": "stream",
     "text": [
      "[2 1]\n"
     ]
    }
   ],
   "source": [
    "a = np.array([[4,-1],[-5,3]])\n",
    "b = np.array([1,2])\n",
    "print(np.dot(a,b))"
   ]
  },
  {
   "cell_type": "code",
   "execution_count": 5,
   "metadata": {},
   "outputs": [
    {
     "name": "stdout",
     "output_type": "stream",
     "text": [
      "[[-1  1]\n",
      " [-1  1]]\n"
     ]
    }
   ],
   "source": [
    "a = np.array([[3,4],[5,6]])\n",
    "b = np.array([[1,-1],[-1,1]])\n",
    "print(np.dot(a,b))"
   ]
  },
  {
   "cell_type": "markdown",
   "metadata": {},
   "source": [
    "$$\n",
    "\\begin{align}\n",
    "\\left\\{\n",
    "\\begin{array}{ll}\n",
    "x+y &= 2\\\\\n",
    "2x+3y &= 5\n",
    "\\end{array}\n",
    "\\right.\n",
    "\\end{align}\n",
    "$$"
   ]
  },
  {
   "cell_type": "markdown",
   "metadata": {},
   "source": [
    "$$\n",
    "\\begin{eqnarray}\n",
    "    x+y = 2 を2倍して\\\\\n",
    "\\end{eqnarray}\n",
    "$$"
   ]
  },
  {
   "cell_type": "markdown",
   "metadata": {},
   "source": [
    "$$\n",
    "\\begin{align}\n",
    "\\left\\{\n",
    "\\begin{array}{ll}\n",
    "2x+2y &= 4\\\\\n",
    "2x+3y &= 5\n",
    "\\end{array}\n",
    "\\right.\n",
    "\\end{align}\n",
    "$$"
   ]
  },
  {
   "cell_type": "markdown",
   "metadata": {},
   "source": [
    "$$\n",
    "\\begin{eqnarray}\n",
    "   &&(2x + 3y = 5) - (2x + 2y =4)より\\\\\n",
    "   &&y = 1\\\\\n",
    "   &&x+y = 2にy=1を代入して\\\\\n",
    "   &&x=1\\\\\n",
    "   &&よって、x=1 ,  y=1\n",
    "\\end{eqnarray}\n",
    "$$"
   ]
  },
  {
   "cell_type": "code",
   "execution_count": 3,
   "metadata": {},
   "outputs": [
    {
     "name": "stdout",
     "output_type": "stream",
     "text": [
      "定義した行列\n",
      " [[1 1]\n",
      " [2 3]]\n",
      "逆行列\n",
      " [[ 3. -1.]\n",
      " [-2.  1.]]\n",
      "答え\n",
      " [1. 1.]\n"
     ]
    }
   ],
   "source": [
    "import numpy as np\n",
    "mat = np.array([[1,1],[2,3]])\n",
    "print(\"定義した行列\\n\",mat)\n",
    "mat_inv = np.linalg.inv(mat)\n",
    "print(\"逆行列\\n\",mat_inv)\n",
    "a = np.array([2,5])\n",
    "print(\"答え\\n\",np.dot(mat_inv, a))"
   ]
  }
 ],
 "metadata": {
  "kernelspec": {
   "display_name": "Python 3",
   "language": "python",
   "name": "python3"
  },
  "language_info": {
   "codemirror_mode": {
    "name": "ipython",
    "version": 3
   },
   "file_extension": ".py",
   "mimetype": "text/x-python",
   "name": "python",
   "nbconvert_exporter": "python",
   "pygments_lexer": "ipython3",
   "version": "3.6.9"
  }
 },
 "nbformat": 4,
 "nbformat_minor": 4
}
